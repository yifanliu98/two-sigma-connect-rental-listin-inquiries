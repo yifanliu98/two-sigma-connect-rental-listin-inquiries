{
 "cells": [
  {
   "cell_type": "code",
   "execution_count": 1,
   "metadata": {},
   "outputs": [],
   "source": [
    "import numpy as np\n",
    "import pandas as pd\n",
    "import matplotlib.pyplot as plt\n"
   ]
  },
  {
   "cell_type": "code",
   "execution_count": 2,
   "metadata": {},
   "outputs": [],
   "source": [
    "def load_train_data():\n",
    "    train_file = 'train.json.zip'\n",
    "    train = pd.read_json(train_file, orient='records', convert_dates=['created'])\n",
    "    train.reset_index(drop=True, inplace=True)\n",
    "    return train\n",
    "\n",
    "def load_test_data():\n",
    "    test_file = 'test.json.zip'\n",
    "    test = pd.read_json(test_file, orient='records', convert_dates=['created'])\n",
    "    test.reset_index(drop=True, inplace=True)\n",
    "    return test\n"
   ]
  },
  {
   "cell_type": "code",
   "execution_count": 3,
   "metadata": {},
   "outputs": [],
   "source": [
    "# load train data\n",
    "train = load_train_data()\n",
    "# test = load_test_data()\n",
    "\n",
    "# remove outliers\n",
    "# latitude\n",
    "lower = np.percentile(train['latitude'].values, 1)\n",
    "upper = np.percentile(train['latitude'].values, 99)\n",
    "train = train[train['latitude'] > lower]\n",
    "train = train[train['latitude'] < upper]\n",
    "# train.latitude.hist()\n",
    "\n",
    "# longitude\n",
    "lower = np.percentile(train['longitude'].values, 1)\n",
    "upper = np.percentile(train['longitude'].values, 99)\n",
    "train = train[train['longitude'] > lower]\n",
    "train = train[train['longitude'] < upper]\n",
    "# train.longitude.hist()\n",
    "\n",
    "# price\n",
    "upper = np.percentile(train['price'].values, 99)\n",
    "train = train[train['price'] < upper]\n",
    "# train.price.hist()\n",
    "\n",
    "train.reset_index(drop=True, inplace=True)"
   ]
  },
  {
   "cell_type": "code",
   "execution_count": 4,
   "metadata": {},
   "outputs": [],
   "source": [
    "train['photo_number'] = len(train['photos'])\n",
    "train['location'] = train[['latitude', 'longitude']].values.tolist()\n",
    "train['target'] = train['interest_level'].apply(lambda x: 0 if x=='low' else 1 if x=='medium' else 2)\n",
    "\n",
    "# finding all features\n",
    "features_dict = {}\n",
    "def get_features(features):\n",
    "    for f in features:\n",
    "        f = f.strip('!')\n",
    "        f = f.strip('*')\n",
    "        f = f.strip(' ')\n",
    "        \n",
    "        if f in features_dict.keys():\n",
    "            features_dict[f] += 1\n",
    "        else:\n",
    "            features_dict[f] = 1\n",
    "            \n",
    "temp = train['features'].apply(get_features)\n",
    "features_dict.keys()\n",
    "\n",
    "feature_columns = {}\n",
    "feature_list = []\n",
    "for key in features_dict.keys():\n",
    "    if features_dict[key] >= 20000:\n",
    "        feature_list.append(key)\n",
    "        feature_columns[key] = []\n",
    "        \n",
    "def get_feature_columns(features):\n",
    "    for key in feature_columns:\n",
    "        if key in features:\n",
    "            feature_columns[key].append(True)\n",
    "        else:\n",
    "            feature_columns[key].append(False)\n",
    "            \n",
    "temp = train['features'].apply(get_feature_columns)\n",
    "train = pd.concat([train, pd.DataFrame.from_dict(feature_columns)], axis=1)\n",
    "\n",
    "\n",
    "# using external dataset\n",
    "subway = pd.read_csv('NYC_Transit_Subway_Entrance_And_Exit_Data.csv')\n",
    "subway = subway[['Station Name', 'Station Latitude', 'Station Longitude']]\n",
    "subway = subway.groupby(['Station Name']).mean().reset_index(drop=True)\n",
    "\n",
    "from math import cos, asin, sqrt\n",
    "# https://stackoverflow.com/questions/27928/calculate-distance-between-two-latitude-longitude-points-haversine-formula/21623206\n",
    "def distance_pair(lat1, lon1, lat2, lon2):\n",
    "    p = 0.017453292519943295     #Pi/180\n",
    "    a = 0.5 - cos((lat2 - lat1) * p)/2 +  cos(lat1 * p) * cos(lat2 * p) * (1 - cos((lon2 - lon1) * p)) / 2\n",
    "    d_2_point = 6371 *2 * asin(sqrt(a)) #2*R*asin...\n",
    "    return d_2_point\n",
    "distance_pairs = np.vectorize(distance_pair)\n",
    "\n",
    "def get_nearby_subway(location):\n",
    "    distances = distance_pairs(location[0], location[1], subway['Station Latitude'], subway['Station Longitude'])    \n",
    "    return distances[distances < 1].shape[0]\n",
    "    \n",
    "def get_subway_distance(location):\n",
    "    distances = distance_pairs(location[0], location[1], subway['Station Latitude'], subway['Station Longitude'])    \n",
    "    return min(distances)\n",
    "\n",
    "\n",
    "train['nearby_subway'] = train['location'].apply(get_nearby_subway)\n",
    "train['subway_distance'] = train['location'].apply(get_subway_distance)\n"
   ]
  },
  {
   "cell_type": "code",
   "execution_count": 10,
   "metadata": {},
   "outputs": [
    {
     "name": "stdout",
     "output_type": "stream",
     "text": [
      "Accuracy: 0.699179 (+/- 0.000110)\n"
     ]
    }
   ],
   "source": [
    "from sklearn.linear_model import LogisticRegression\n",
    "from sklearn.model_selection import train_test_split\n",
    "\n",
    "X = train[['bathrooms', 'bedrooms', 'photo_number', 'nearby_subway', 'subway_distance', 'price'] + feature_list]\n",
    "y = train['target']\n",
    "X_train, X_test, y_train, y_test = train_test_split(X, y, shuffle=True)\n",
    "\n",
    "logistic_model = LogisticRegression(multi_class='multinomial', solver='lbfgs')\n",
    "\n",
    "# logistic_model.fit(X_train, y_train)\n",
    "# print(logistic_model.score(X_train, y_train))\n",
    "# print(logistic_model.score(X_test, y_test))\n",
    "\n",
    "from sklearn.model_selection import cross_val_score\n",
    "scores = cross_val_score(logistic_model, X, y, cv=5)\n",
    "print(\"Accuracy: %f (+/- %f)\" % (scores.mean(), scores.std() * 2))\n"
   ]
  },
  {
   "cell_type": "markdown",
   "metadata": {},
   "source": [
    "# Display all building on NYC map"
   ]
  },
  {
   "cell_type": "code",
   "execution_count": 13,
   "metadata": {},
   "outputs": [
    {
     "ename": "ModuleNotFoundError",
     "evalue": "No module named 'geopandas'",
     "output_type": "error",
     "traceback": [
      "\u001b[1;31m---------------------------------------------------------------------------\u001b[0m",
      "\u001b[1;31mModuleNotFoundError\u001b[0m                       Traceback (most recent call last)",
      "\u001b[1;32m<ipython-input-13-7e2aac34a2db>\u001b[0m in \u001b[0;36m<module>\u001b[1;34m\u001b[0m\n\u001b[0;32m      1\u001b[0m \u001b[1;32mimport\u001b[0m \u001b[0mdescartes\u001b[0m\u001b[1;33m\u001b[0m\u001b[1;33m\u001b[0m\u001b[0m\n\u001b[1;32m----> 2\u001b[1;33m \u001b[1;32mimport\u001b[0m \u001b[0mgeopandas\u001b[0m \u001b[1;32mas\u001b[0m \u001b[0mgpd\u001b[0m\u001b[1;33m\u001b[0m\u001b[1;33m\u001b[0m\u001b[0m\n\u001b[0m\u001b[0;32m      3\u001b[0m \u001b[1;32mfrom\u001b[0m \u001b[0mshapely\u001b[0m\u001b[1;33m.\u001b[0m\u001b[0mgeometry\u001b[0m \u001b[1;32mimport\u001b[0m \u001b[0mPoint\u001b[0m\u001b[1;33m,\u001b[0m \u001b[0mPolygon\u001b[0m\u001b[1;33m\u001b[0m\u001b[1;33m\u001b[0m\u001b[0m\n",
      "\u001b[1;31mModuleNotFoundError\u001b[0m: No module named 'geopandas'"
     ]
    }
   ],
   "source": [
    "import descartes\n",
    "import geopandas as gpd\n",
    "from shapely.geometry import Point, Polygon\n"
   ]
  },
  {
   "cell_type": "code",
   "execution_count": null,
   "metadata": {},
   "outputs": [],
   "source": [
    "def get_geometry(data):\n",
    "    crs = {'init': 'epsg:4326'}\n",
    "    geometry=[Point(xy)for xy in zip(data['longitude'], data['latitude'])]\n",
    "    geo_df = gpd.GeoDataFrame(data,\n",
    "                            crs = crs,\n",
    "                            geometry = geometry)\n",
    "    geo_df.reset_index(inplace=True)\n",
    "    return geo_df\n"
   ]
  },
  {
   "cell_type": "code",
   "execution_count": null,
   "metadata": {
    "scrolled": false
   },
   "outputs": [],
   "source": [
    "#Load backgroud NYC map data\n",
    "vmap = gpd.read_file('NYC_street_map.shp')\n",
    "vmap_geo = vmap.to_crs(\"EPSG:4326\")\n",
    "\n",
    "#Process the input data\n",
    "train_geo = get_geometry(train)\n",
    "\n",
    "fig, ax = plt.subplots(figsize = (15,15))\n",
    "vmap_geo.plot(ax=ax, alpha=0.4, color=\"grey\", edgecolor = 'k')\n",
    "train_geo.plot(ax = ax, markersize = 10, color = 'red', marker = 'o', label='Building')\n",
    "plt.title('Building location distribution')\n",
    "plt.legend()\n",
    "plt.show()\n"
   ]
  },
  {
   "cell_type": "code",
   "execution_count": null,
   "metadata": {},
   "outputs": [],
   "source": [
    "map_boundary = gpd.read_file('NYC_boundary.shp')\n",
    "map_boundary_geo = map_boundary.to_crs(\"EPSG:4326\")\n",
    "\n",
    "fig, ax = plt.subplots(figsize = (15,15))\n",
    "map_boundary_geo.plot(ax=ax, alpha=0.4, color='black', edgecolor='k')\n",
    "train_geo.plot(ax = ax, markersize = 10, color = 'red', marker = 'o', label='Building')\n",
    "plt.title('Building location distribution')\n",
    "plt.legend()\n",
    "plt.show()\n"
   ]
  },
  {
   "cell_type": "code",
   "execution_count": null,
   "metadata": {},
   "outputs": [],
   "source": [
    "nyc = map_boundary_geo['geometry'].unary_union"
   ]
  },
  {
   "cell_type": "code",
   "execution_count": null,
   "metadata": {},
   "outputs": [],
   "source": [
    "# https://stackoverflow.com/questions/52600811/using-geopandas-how-do-i-select-all-points-not-within-a-polygon\n",
    "# train_geo[train_geo['geometry'].within(nyc)]\n",
    "nyc"
   ]
  },
  {
   "cell_type": "markdown",
   "metadata": {},
   "source": [
    "# NYC Map"
   ]
  },
  {
   "cell_type": "code",
   "execution_count": null,
   "metadata": {},
   "outputs": [],
   "source": [
    "# pip3 install shapely==1.5.17.post1\n",
    "# pip3 install geopandas==0.2.1\n",
    "# pip3 install geojsonio==0.0.3"
   ]
  },
  {
   "cell_type": "code",
   "execution_count": null,
   "metadata": {},
   "outputs": [],
   "source": [
    "NYC = gpd.read_file('NYC.geojson')"
   ]
  },
  {
   "cell_type": "code",
   "execution_count": null,
   "metadata": {},
   "outputs": [],
   "source": [
    "NYC.head()"
   ]
  },
  {
   "cell_type": "code",
   "execution_count": null,
   "metadata": {},
   "outputs": [],
   "source": [
    "NYC = NYC.to_json()"
   ]
  },
  {
   "cell_type": "code",
   "execution_count": null,
   "metadata": {},
   "outputs": [],
   "source": []
  },
  {
   "cell_type": "code",
   "execution_count": null,
   "metadata": {},
   "outputs": [],
   "source": []
  }
 ],
 "metadata": {
  "kernelspec": {
   "display_name": "Python 3",
   "language": "python",
   "name": "python3"
  },
  "language_info": {
   "codemirror_mode": {
    "name": "ipython",
    "version": 3
   },
   "file_extension": ".py",
   "mimetype": "text/x-python",
   "name": "python",
   "nbconvert_exporter": "python",
   "pygments_lexer": "ipython3",
   "version": "3.7.3"
  }
 },
 "nbformat": 4,
 "nbformat_minor": 2
}
