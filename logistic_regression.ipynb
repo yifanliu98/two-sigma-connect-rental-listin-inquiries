{
 "cells": [
  {
   "cell_type": "code",
   "execution_count": 1,
   "metadata": {},
   "outputs": [],
   "source": [
    "import numpy as np\n",
    "import pandas as pd\n",
    "import matplotlib.pyplot as plt\n",
    "from sklearn.linear_model import LogisticRegression\n",
    "from sklearn.model_selection import cross_val_score"
   ]
  },
  {
   "cell_type": "code",
   "execution_count": 2,
   "metadata": {},
   "outputs": [],
   "source": [
    "def load_train_data():\n",
    "    train_file = 'train.json.zip'\n",
    "    train = pd.read_json(train_file, orient='records', convert_dates=['created'])\n",
    "    train.reset_index(drop=True, inplace=True)\n",
    "    return train\n",
    "\n",
    "def load_test_data():\n",
    "    test_file = 'test.json.zip'\n",
    "    test = pd.read_json(test_file, orient='records', convert_dates=['created'])\n",
    "    test.reset_index(drop=True, inplace=True)\n",
    "    return test\n"
   ]
  },
  {
   "cell_type": "markdown",
   "metadata": {},
   "source": [
    "# Data Preparation"
   ]
  },
  {
   "cell_type": "code",
   "execution_count": 3,
   "metadata": {},
   "outputs": [],
   "source": [
    "# load train data\n",
    "train = load_train_data()\n",
    "\n",
    "# remove outliers\n",
    "# latitude\n",
    "lower = np.percentile(train['latitude'].values, 1)\n",
    "upper = np.percentile(train['latitude'].values, 99)\n",
    "train = train[train['latitude'] > lower]\n",
    "train = train[train['latitude'] < upper]\n",
    "# train.latitude.hist()\n",
    "\n",
    "# longitude\n",
    "lower = np.percentile(train['longitude'].values, 1)\n",
    "upper = np.percentile(train['longitude'].values, 99)\n",
    "train = train[train['longitude'] > lower]\n",
    "train = train[train['longitude'] < upper]\n",
    "# train.longitude.hist()\n",
    "\n",
    "# price\n",
    "upper = np.percentile(train['price'].values, 99)\n",
    "train = train[train['price'] < upper]\n",
    "# train.price.hist()\n",
    "\n",
    "train.reset_index(drop=True, inplace=True)"
   ]
  },
  {
   "cell_type": "markdown",
   "metadata": {},
   "source": [
    "# Display all building on NYC map"
   ]
  },
  {
   "cell_type": "code",
   "execution_count": 4,
   "metadata": {},
   "outputs": [],
   "source": [
    "import descartes\n",
    "import geopandas as gpd\n",
    "from shapely.geometry import Point\n",
    "\n",
    "def get_geometry(data):\n",
    "    crs = {'init': 'epsg:4326'}\n",
    "    geometry=[Point(xy)for xy in zip(data['longitude'], data['latitude'])]\n",
    "    geo_df = gpd.GeoDataFrame(data,\n",
    "                            crs = crs,\n",
    "                            geometry = geometry)\n",
    "    geo_df.reset_index(inplace=True)\n",
    "    return geo_df\n"
   ]
  },
  {
   "cell_type": "code",
   "execution_count": 5,
   "metadata": {},
   "outputs": [],
   "source": [
    "#Load backgroud NYC map data\n",
    "vmap = gpd.read_file('NYC_street_map.shp')\n",
    "vmap_geo = vmap.to_crs(\"EPSG:4326\")\n",
    "\n",
    "#Process the input data\n",
    "train_geo = get_geometry(train)\n",
    "\n",
    "fig, ax = plt.subplots(figsize = (15,15))\n",
    "vmap_geo.plot(ax=ax, alpha=0.4, color=\"grey\", edgecolor = 'k')\n",
    "train_geo.plot(ax = ax, markersize = 10, color = 'red', marker = 'o', label='Building')\n",
    "plt.title('Building location distribution')\n",
    "plt.legend()\n",
    "plt.show()"
   ]
  },
  {
   "cell_type": "code",
   "execution_count": 6,
   "metadata": {},
   "outputs": [],
   "source": [
    "map_boundary = gpd.read_file('NYC_boundary.shp')\n",
    "map_boundary_geo = map_boundary.to_crs(\"EPSG:4326\")\n",
    "\n",
    "fig, ax = plt.subplots(figsize = (15,15))\n",
    "map_boundary_geo.plot(ax=ax, alpha=0.4, color='black', edgecolor='k')\n",
    "train_geo.plot(ax = ax, markersize = 10, color = 'red', marker = 'o', label='Building')\n",
    "plt.title('Building location distribution')\n",
    "plt.legend()\n",
    "plt.show()"
   ]
  },
  {
   "cell_type": "markdown",
   "metadata": {},
   "source": [
    "# Feature Selection"
   ]
  },
  {
   "cell_type": "code",
   "execution_count": 7,
   "metadata": {},
   "outputs": [],
   "source": [
    "# Adding feature manager id\n",
    "manager_id_df = train.groupby(['manager_id']).agg({'building_id': 'count'}).reset_index()\n",
    "manager_number = manager_id_df['building_id'].shape[0]\n",
    "manager_id_df['building_id'] = np.linspace(1, manager_number, num=manager_number, dtype=int)\n",
    "\n",
    "train = train.merge(manager_id_df, how='left', on='manager_id')\n",
    "del train['building_id_x']\n",
    "train = train.rename(columns={'building_id_y': 'manager_number'})\n"
   ]
  },
  {
   "cell_type": "code",
   "execution_count": 8,
   "metadata": {},
   "outputs": [],
   "source": [
    "# # finding all features\n",
    "# features_dict = {}\n",
    "# def get_features(features):\n",
    "#     for f in features:\n",
    "#         f = f.strip('!')\n",
    "#         f = f.strip('*')\n",
    "#         f = f.strip(' ')\n",
    "        \n",
    "#         if f in features_dict.keys():\n",
    "#             features_dict[f] += 1\n",
    "#         else:\n",
    "#             features_dict[f] = 1\n",
    "            \n",
    "# temp = train['features'].apply(get_features)\n",
    "# features_dict.keys()\n",
    "\n",
    "# feature_columns = {}\n",
    "# feature_list = []\n",
    "# for key in features_dict.keys():\n",
    "#     if features_dict[key] >= 20000:\n",
    "#         feature_list.append(key)\n",
    "#         feature_columns[key] = []\n",
    "        \n",
    "# def get_feature_columns(features):\n",
    "#     for key in feature_columns:\n",
    "#         if key in features:\n",
    "#             feature_columns[key].append(True)\n",
    "#         else:\n",
    "#             feature_columns[key].append(False)\n",
    "            \n",
    "# temp = train['features'].apply(get_feature_columns)\n",
    "# train = pd.concat([train, pd.DataFrame.from_dict(feature_columns)], axis=1)\n",
    "\n",
    "\n",
    "# using external dataset\n",
    "subway = pd.read_csv('NYC_Transit_Subway_Entrance_And_Exit_Data.csv')\n",
    "subway = subway[['Station Name', 'Station Latitude', 'Station Longitude']]\n",
    "subway = subway.groupby(['Station Name']).mean().reset_index(drop=True)\n",
    "\n",
    "from math import cos, asin, sqrt\n",
    "# https://stackoverflow.com/questions/27928/calculate-distance-between-two-latitude-longitude-points-haversine-formula/21623206\n",
    "def distance_pair(lat1, lon1, lat2, lon2):\n",
    "    p = 0.017453292519943295     #Pi/180\n",
    "    a = 0.5 - cos((lat2 - lat1) * p)/2 +  cos(lat1 * p) * cos(lat2 * p) * (1 - cos((lon2 - lon1) * p)) / 2\n",
    "    d_2_point = 6371 *2 * asin(sqrt(a)) #2*R*asin...\n",
    "    return d_2_point\n",
    "distance_pairs = np.vectorize(distance_pair)\n",
    "\n",
    "def get_nearby_subway(location):\n",
    "    distances = distance_pairs(location[0], location[1], subway['Station Latitude'], subway['Station Longitude'])    \n",
    "    return distances[distances < 1].shape[0]\n",
    "    \n",
    "def get_subway_distance(location):\n",
    "    distances = distance_pairs(location[0], location[1], subway['Station Latitude'], subway['Station Longitude'])    \n",
    "    return min(distances)\n",
    "\n",
    "train['feature_number'] = train['features'].apply(len)\n",
    "train['room_number'] = train['bedrooms'] + train['bathrooms']\n",
    "train['photo_number'] = train['photos'].apply(len)\n",
    "train['location'] = train[['latitude', 'longitude']].values.tolist()\n",
    "train['nearby_subway'] = train['location'].apply(get_nearby_subway)\n",
    "train['subway_distance'] = train['location'].apply(get_subway_distance)\n",
    "\n"
   ]
  },
  {
   "cell_type": "markdown",
   "metadata": {},
   "source": [
    "# Features Selection Using Embedded Method (LassoCV())"
   ]
  },
  {
   "cell_type": "code",
   "execution_count": 9,
   "metadata": {},
   "outputs": [],
   "source": [
    "# https://towardsdatascience.com/feature-selection-with-pandas-e3690ad8504b"
   ]
  },
  {
   "cell_type": "code",
   "execution_count": 10,
   "metadata": {},
   "outputs": [],
   "source": [
    "# from sklearn.linear_model import LassoCV\n",
    "# train['target'] = train['interest_level'].apply(lambda x: 0 if x=='low' else 1 if x=='medium' else 2)\n",
    "# target = train['target']\n",
    "# inputs = train[['latitude', 'listing_id', 'manager_number', 'longitude', 'bedrooms', 'bathrooms', 'photo_number', 'nearby_subway', 'subway_distance', 'price'] + feature_list]\n",
    "\n",
    "# best_features = LassoCV().fit(inputs, target)\n",
    "# print(\"Best alpha using built-in LassoCV: %f\" % best_features.alpha_)\n",
    "# print(\"Best score using built-in LassoCV: %f\" %best_features.score(inputs, target))\n",
    "# coef = pd.Series(best_features.coef_, index=inputs.columns)\n",
    "# print(\"Lasso picked \" + str(sum(coef != 0)) + \" variables and eliminated the other \" +  str(sum(coef == 0)) + \" variables\")\n",
    "# imp_coef = coef.sort_values()\n",
    "# import matplotlib\n",
    "# matplotlib.rcParams['figure.figsize'] = (8.0, 10.0)\n",
    "# imp_coef.plot(kind = \"barh\")\n",
    "# plt.title(\"Feature importance using Lasso Model\")"
   ]
  },
  {
   "cell_type": "markdown",
   "metadata": {},
   "source": [
    "# Training Model"
   ]
  },
  {
   "cell_type": "code",
   "execution_count": 11,
   "metadata": {},
   "outputs": [],
   "source": [
    "X_features = ['feature_number', 'room_number', 'manager_number', 'photo_number', 'nearby_subway', 'subway_distance', 'price']"
   ]
  },
  {
   "cell_type": "code",
   "execution_count": 12,
   "metadata": {
    "scrolled": false
   },
   "outputs": [
    {
     "name": "stdout",
     "output_type": "stream",
     "text": [
      "Accuracy before: 0.699179 (+/- 0.000104)\n"
     ]
    },
    {
     "name": "stderr",
     "output_type": "stream",
     "text": [
      "/opt/anaconda3/lib/python3.7/site-packages/sklearn/linear_model/_logistic.py:940: ConvergenceWarning: lbfgs failed to converge (status=1):\n",
      "STOP: TOTAL NO. of ITERATIONS REACHED LIMIT.\n",
      "\n",
      "Increase the number of iterations (max_iter) or scale the data as shown in:\n",
      "    https://scikit-learn.org/stable/modules/preprocessing.html\n",
      "Please also refer to the documentation for alternative solver options:\n",
      "    https://scikit-learn.org/stable/modules/linear_model.html#logistic-regression\n",
      "  extra_warning_msg=_LOGISTIC_SOLVER_CONVERGENCE_MSG)\n"
     ]
    },
    {
     "name": "stdout",
     "output_type": "stream",
     "text": [
      "Accuracy: 0.690248 (+/- 0.007020)\n"
     ]
    },
    {
     "name": "stderr",
     "output_type": "stream",
     "text": [
      "/opt/anaconda3/lib/python3.7/site-packages/sklearn/linear_model/_logistic.py:940: ConvergenceWarning: lbfgs failed to converge (status=1):\n",
      "STOP: TOTAL NO. of ITERATIONS REACHED LIMIT.\n",
      "\n",
      "Increase the number of iterations (max_iter) or scale the data as shown in:\n",
      "    https://scikit-learn.org/stable/modules/preprocessing.html\n",
      "Please also refer to the documentation for alternative solver options:\n",
      "    https://scikit-learn.org/stable/modules/linear_model.html#logistic-regression\n",
      "  extra_warning_msg=_LOGISTIC_SOLVER_CONVERGENCE_MSG)\n"
     ]
    }
   ],
   "source": [
    "#Logistic Regression Model 1\n",
    "\n",
    "X_old = train[['price']]\n",
    "X = train[X_features]\n",
    "y = train['interest_level']\n",
    "logistic_model = LogisticRegression(multi_class='multinomial', max_iter=800)\n",
    "\n",
    "scores_old = cross_val_score(logistic_model, X_old, y, cv=5)\n",
    "print(\"Accuracy before: %f (+/- %f)\" % (scores_old.mean(), scores_old.std() * 2))\n",
    "scores = cross_val_score(logistic_model, X, y, cv=5)\n",
    "print(\"Accuracy: %f (+/- %f)\" % (scores.mean(), scores.std() * 2))\n"
   ]
  },
  {
   "cell_type": "code",
   "execution_count": 13,
   "metadata": {},
   "outputs": [],
   "source": [
    "# # Logistic Regression Model 2\n",
    "# train['high'] = train['interest_level'].apply(lambda x: True if x=='high' else False)\n",
    "# train['medium'] = train['interest_level'].apply(lambda x: True if x=='medium' else False)\n",
    "# train['low'] = train['interest_level'].apply(lambda x: True if x=='low' else False)\n",
    "\n",
    "# X = train[X_features]\n",
    "# y_high = train['high']\n",
    "# y_medium = train['medium']\n",
    "# y_low = train['low']\n",
    "\n",
    "# lr_high = LogisticRegression(multi_class='ovr')\n",
    "# lr_medium = LogisticRegression(multi_class='ovr')\n",
    "# lr_low = LogisticRegression(multi_class='ovr')\n",
    "\n",
    "# from sklearn.model_selection import cross_val_score\n",
    "# scores_high = cross_val_score(lr_high, X, y_high, cv=5)\n",
    "# print(\"Accuracy for lr_high: %f (+/- %f)\" % (scores_high.mean(), scores_high.std() * 2))\n",
    "# scores_medium = cross_val_score(lr_medium, X, y_medium, cv=5)\n",
    "# print(\"Accuracy for lr_medium: %f (+/- %f)\" % (scores_medium.mean(), scores_medium.std() * 2))\n",
    "# scores_low = cross_val_score(lr_low, X, y_low, cv=5)\n",
    "# print(\"Accuracy for lr_low: %f (+/- %f)\" % (scores_low.mean(), scores_low.std() * 2))\n"
   ]
  },
  {
   "cell_type": "markdown",
   "metadata": {},
   "source": [
    "# Testing Model"
   ]
  },
  {
   "cell_type": "code",
   "execution_count": 14,
   "metadata": {},
   "outputs": [],
   "source": [
    "test = load_test_data()"
   ]
  },
  {
   "cell_type": "code",
   "execution_count": 15,
   "metadata": {},
   "outputs": [],
   "source": [
    "test['feature_number'] = test['features'].apply(len)\n",
    "test['room_number'] = test['bedrooms'] + test['bathrooms']\n",
    "test['photo_number'] = test['photos'].apply(len)\n",
    "test['location'] = test[['latitude', 'longitude']].values.tolist()\n",
    "test['nearby_subway'] = test['location'].apply(get_nearby_subway)\n",
    "test['subway_distance'] = test['location'].apply(get_subway_distance)\n",
    "test = test.merge(manager_id_df, how='left', on='manager_id')\n",
    "del test['building_id_x']\n",
    "test = test.rename(columns={'building_id_y': 'manager_number'})"
   ]
  },
  {
   "cell_type": "code",
   "execution_count": 16,
   "metadata": {},
   "outputs": [],
   "source": [
    "# test = pd.concat([test, pd.DataFrame.from_dict(feature_columns)], axis=1)"
   ]
  },
  {
   "cell_type": "code",
   "execution_count": 17,
   "metadata": {},
   "outputs": [
    {
     "name": "stderr",
     "output_type": "stream",
     "text": [
      "/opt/anaconda3/lib/python3.7/site-packages/ipykernel_launcher.py:2: SettingWithCopyWarning: \n",
      "A value is trying to be set on a copy of a slice from a DataFrame.\n",
      "Try using .loc[row_indexer,col_indexer] = value instead\n",
      "\n",
      "See the caveats in the documentation: http://pandas.pydata.org/pandas-docs/stable/user_guide/indexing.html#returning-a-view-versus-a-copy\n",
      "  \n"
     ]
    }
   ],
   "source": [
    "test_null = test[test['manager_number'].isnull()]\n",
    "test_null['manager_number'] = np.zeros(test_null.shape[0])\n",
    "test = test.dropna(subset=['manager_number'])\n",
    "test = pd.concat([test, test_null])\n",
    "test = test.astype({'manager_number':'int64'})\n",
    "# test = test.astype({'Dogs Allowed':'bool', 'Hardwood Floors':'bool', 'Cats Allowed':'bool', 'Elevator':'bool'})"
   ]
  },
  {
   "cell_type": "code",
   "execution_count": 18,
   "metadata": {},
   "outputs": [],
   "source": [
    "X_test = test[X_features]"
   ]
  },
  {
   "cell_type": "code",
   "execution_count": 20,
   "metadata": {},
   "outputs": [
    {
     "name": "stderr",
     "output_type": "stream",
     "text": [
      "/opt/anaconda3/lib/python3.7/site-packages/sklearn/linear_model/_logistic.py:940: ConvergenceWarning: lbfgs failed to converge (status=1):\n",
      "STOP: TOTAL NO. of ITERATIONS REACHED LIMIT.\n",
      "\n",
      "Increase the number of iterations (max_iter) or scale the data as shown in:\n",
      "    https://scikit-learn.org/stable/modules/preprocessing.html\n",
      "Please also refer to the documentation for alternative solver options:\n",
      "    https://scikit-learn.org/stable/modules/linear_model.html#logistic-regression\n",
      "  extra_warning_msg=_LOGISTIC_SOLVER_CONVERGENCE_MSG)\n"
     ]
    }
   ],
   "source": [
    "# Model 1\n",
    "logistic_model.fit(X, y)\n",
    "y_test = logistic_model.predict_proba(X_test)\n",
    "test_data = {'listing_id':test['listing_id'], \n",
    "             'high':y_test[:,0], \n",
    "            'medium' : y_test[:,2], \n",
    "            'low' : y_test[:,1]}\n"
   ]
  },
  {
   "cell_type": "code",
   "execution_count": null,
   "metadata": {},
   "outputs": [],
   "source": [
    "# Model 2\n",
    "# lr_high.fit(X, y_high)\n",
    "# lr_medium.fit(X, y_medium)\n",
    "# lr_low.fit(X, y_low)\n",
    "\n",
    "# y_test_high = lr_high.predict_proba(X_test)[:,1]\n",
    "# y_test_medium = lr_medium.predict_proba(X_test)[:,1]\n",
    "# y_test_low = lr_low.predict_proba(X_test)[:,1]\n",
    "\n",
    "\n",
    "# test_data = {'listing_id' : test['listing_id'], \n",
    "#              'high' : y_test_high, \n",
    "#              'medium' : y_test_medium, \n",
    "#              'low' : y_test_low}"
   ]
  },
  {
   "cell_type": "code",
   "execution_count": 21,
   "metadata": {},
   "outputs": [
    {
     "data": {
      "text/html": [
       "<div>\n",
       "<style scoped>\n",
       "    .dataframe tbody tr th:only-of-type {\n",
       "        vertical-align: middle;\n",
       "    }\n",
       "\n",
       "    .dataframe tbody tr th {\n",
       "        vertical-align: top;\n",
       "    }\n",
       "\n",
       "    .dataframe thead th {\n",
       "        text-align: right;\n",
       "    }\n",
       "</style>\n",
       "<table border=\"1\" class=\"dataframe\">\n",
       "  <thead>\n",
       "    <tr style=\"text-align: right;\">\n",
       "      <th></th>\n",
       "      <th>listing_id</th>\n",
       "      <th>high</th>\n",
       "      <th>medium</th>\n",
       "      <th>low</th>\n",
       "    </tr>\n",
       "  </thead>\n",
       "  <tbody>\n",
       "    <tr>\n",
       "      <th>0</th>\n",
       "      <td>7142618</td>\n",
       "      <td>0.056567</td>\n",
       "      <td>0.258484</td>\n",
       "      <td>0.684948</td>\n",
       "    </tr>\n",
       "    <tr>\n",
       "      <th>1</th>\n",
       "      <td>7210040</td>\n",
       "      <td>0.165063</td>\n",
       "      <td>0.283669</td>\n",
       "      <td>0.551268</td>\n",
       "    </tr>\n",
       "    <tr>\n",
       "      <th>2</th>\n",
       "      <td>7174566</td>\n",
       "      <td>0.087700</td>\n",
       "      <td>0.194006</td>\n",
       "      <td>0.718294</td>\n",
       "    </tr>\n",
       "    <tr>\n",
       "      <th>3</th>\n",
       "      <td>7191391</td>\n",
       "      <td>0.142024</td>\n",
       "      <td>0.291560</td>\n",
       "      <td>0.566416</td>\n",
       "    </tr>\n",
       "    <tr>\n",
       "      <th>4</th>\n",
       "      <td>7171695</td>\n",
       "      <td>0.087845</td>\n",
       "      <td>0.276031</td>\n",
       "      <td>0.636124</td>\n",
       "    </tr>\n",
       "    <tr>\n",
       "      <th>...</th>\n",
       "      <td>...</td>\n",
       "      <td>...</td>\n",
       "      <td>...</td>\n",
       "      <td>...</td>\n",
       "    </tr>\n",
       "    <tr>\n",
       "      <th>74282</th>\n",
       "      <td>6946524</td>\n",
       "      <td>0.145019</td>\n",
       "      <td>0.297458</td>\n",
       "      <td>0.557523</td>\n",
       "    </tr>\n",
       "    <tr>\n",
       "      <th>74312</th>\n",
       "      <td>6859027</td>\n",
       "      <td>0.113328</td>\n",
       "      <td>0.311475</td>\n",
       "      <td>0.575197</td>\n",
       "    </tr>\n",
       "    <tr>\n",
       "      <th>74349</th>\n",
       "      <td>6824740</td>\n",
       "      <td>0.143128</td>\n",
       "      <td>0.275501</td>\n",
       "      <td>0.581371</td>\n",
       "    </tr>\n",
       "    <tr>\n",
       "      <th>74517</th>\n",
       "      <td>6875490</td>\n",
       "      <td>0.000059</td>\n",
       "      <td>0.013126</td>\n",
       "      <td>0.986815</td>\n",
       "    </tr>\n",
       "    <tr>\n",
       "      <th>74539</th>\n",
       "      <td>6815248</td>\n",
       "      <td>0.022915</td>\n",
       "      <td>0.165595</td>\n",
       "      <td>0.811490</td>\n",
       "    </tr>\n",
       "  </tbody>\n",
       "</table>\n",
       "<p>74659 rows × 4 columns</p>\n",
       "</div>"
      ],
      "text/plain": [
       "       listing_id      high    medium       low\n",
       "0         7142618  0.056567  0.258484  0.684948\n",
       "1         7210040  0.165063  0.283669  0.551268\n",
       "2         7174566  0.087700  0.194006  0.718294\n",
       "3         7191391  0.142024  0.291560  0.566416\n",
       "4         7171695  0.087845  0.276031  0.636124\n",
       "...           ...       ...       ...       ...\n",
       "74282     6946524  0.145019  0.297458  0.557523\n",
       "74312     6859027  0.113328  0.311475  0.575197\n",
       "74349     6824740  0.143128  0.275501  0.581371\n",
       "74517     6875490  0.000059  0.013126  0.986815\n",
       "74539     6815248  0.022915  0.165595  0.811490\n",
       "\n",
       "[74659 rows x 4 columns]"
      ]
     },
     "execution_count": 21,
     "metadata": {},
     "output_type": "execute_result"
    }
   ],
   "source": [
    "data = pd.DataFrame(data=test_data)\n",
    "data"
   ]
  },
  {
   "cell_type": "code",
   "execution_count": 22,
   "metadata": {},
   "outputs": [],
   "source": [
    "# data.to_csv('submission.csv', index=False)"
   ]
  },
  {
   "cell_type": "code",
   "execution_count": null,
   "metadata": {},
   "outputs": [],
   "source": [
    "X_features"
   ]
  },
  {
   "cell_type": "code",
   "execution_count": 23,
   "metadata": {},
   "outputs": [
    {
     "data": {
      "text/plain": [
       "<matplotlib.axes._subplots.AxesSubplot at 0x7fc317654850>"
      ]
     },
     "execution_count": 23,
     "metadata": {},
     "output_type": "execute_result"
    },
    {
     "data": {
      "image/png": "[encoded data removed]",
      "text/plain": [
       "<Figure size 432x288 with 1 Axes>"
      ]
     },
     "metadata": {
      "needs_background": "light"
     },
     "output_type": "display_data"
    }
   ],
   "source": [
    "test.price.hist()"
   ]
  },
  {
   "cell_type": "code",
   "execution_count": 24,
   "metadata": {},
   "outputs": [
    {
     "data": {
      "text/plain": [
       "<matplotlib.axes._subplots.AxesSubplot at 0x7fc31766fcd0>"
      ]
     },
     "execution_count": 24,
     "metadata": {},
     "output_type": "execute_result"
    },
    {
     "data": {
      "image/png": "[encoded data removed]",
      "text/plain": [
       "<Figure size 432x288 with 1 Axes>"
      ]
     },
     "metadata": {
      "needs_background": "light"
     },
     "output_type": "display_data"
    }
   ],
   "source": [
    "train.price.hist()"
   ]
  },
  {
   "cell_type": "code",
   "execution_count": null,
   "metadata": {},
   "outputs": [],
   "source": []
  }
 ],
 "metadata": {
  "kernelspec": {
   "display_name": "Python 3",
   "language": "python",
   "name": "python3"
  },
  "language_info": {
   "codemirror_mode": {
    "name": "ipython",
    "version": 3
   },
   "file_extension": ".py",
   "mimetype": "text/x-python",
   "name": "python",
   "nbconvert_exporter": "python",
   "pygments_lexer": "ipython3",
   "version": "3.7.4"
  }
 },
 "nbformat": 4,
 "nbformat_minor": 2
}
