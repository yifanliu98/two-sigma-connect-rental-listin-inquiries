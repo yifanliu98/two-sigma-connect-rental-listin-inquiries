{
 "cells": [
  {
   "cell_type": "code",
   "execution_count": 1,
   "metadata": {
    "scrolled": true
   },
   "outputs": [
    {
     "data": {
      "text/plain": [
       "<matplotlib.axes._subplots.AxesSubplot at 0x1ca5e9dbcc0>"
      ]
     },
     "execution_count": 1,
     "metadata": {},
     "output_type": "execute_result"
    }
   ],
   "source": [
    "import numpy as np\n",
    "import pandas as pd\n",
    "import seaborn as sns\n",
    "import re\n",
    "\n",
    "def load_data():\n",
    "    test_file = 'test.json.zip'\n",
    "    train_file = 'train.json.zip'\n",
    "    test = pd.read_json(test_file, orient='records')\n",
    "    train = pd.read_json(train_file, orient='records')\n",
    "    test.reset_index(drop=True, inplace=True)\n",
    "    train.reset_index(drop=True, inplace=True)\n",
    "    return test, train\n",
    "\n",
    "def clean_data(df):\n",
    "    df = df[df.price <= 2500]\n",
    "    df = df[df.price >= 1200]\n",
    "    df = df[df.building_id != '0']\n",
    "    df.reset_index(drop=True, inplace=True)\n",
    "    return df\n",
    "    \n",
    "# to extract listin_id and image name from url of photos\n",
    "pattern_name = re.compile(r'\\d{7}_\\w{32}')\n",
    "def get_image_name(url):\n",
    "    name = pattern_name.findall(url)[-1]\n",
    "    folder_name, image_name = name.split('_')\n",
    "    return folder_name, image_name\n",
    "    \n",
    "test, train = load_data()\n",
    "train = clean_data(train)\n",
    "\n",
    "sns.boxplot(x=train.price)\n"
   ]
  },
  {
   "cell_type": "code",
   "execution_count": 2,
   "metadata": {},
   "outputs": [
    {
     "name": "stdout",
     "output_type": "stream",
     "text": [
      "https://photos.renthop.com/2/6898799_3759be4c83e7da17e864e58225be8ad5.jpg\n",
      "('6898799', '3759be4c83e7da17e864e58225be8ad5')\n"
     ]
    }
   ],
   "source": [
    "a=train[train.index==0]\n",
    "a.photos[0]\n",
    "URL = a.photos[0][0]\n",
    "print(URL)\n",
    "print(get_image_name(URL))"
   ]
  },
  {
   "cell_type": "code",
   "execution_count": 3,
   "metadata": {},
   "outputs": [],
   "source": [
    "# import urllib.request\n",
    "# from bs4 import BeautifulSoup\n",
    "# import re\n",
    "# import os\n",
    "\n",
    "# def open_url(url):\n",
    "#     request = urllib.request.urlopen(url)\n",
    "#     return request.read()\n",
    "\n",
    "# URL = a.photos[0][0]\n",
    "# opener = urllib.request.URLopener()\n",
    "# opener.addheader('User-Agent', 'whatever')\n",
    "# filename, headers = opener.retrieve(URL, \"1.jpg\")\n",
    "\n",
    "\n",
    "# open_url('https://photos.renthop.com/2/6893933_297272691f37af25c547e68a88387aad.jpg')"
   ]
  },
  {
   "cell_type": "code",
   "execution_count": 12,
   "metadata": {},
   "outputs": [
    {
     "ename": "FileNotFoundError",
     "evalue": "[Errno 2] No such file or directory: './test/123/123.jpg'",
     "output_type": "error",
     "traceback": [
      "\u001b[1;31m---------------------------------------------------------------------------\u001b[0m",
      "\u001b[1;31mFileNotFoundError\u001b[0m                         Traceback (most recent call last)",
      "\u001b[1;32m<ipython-input-12-0a7da9859643>\u001b[0m in \u001b[0;36m<module>\u001b[1;34m\u001b[0m\n\u001b[0;32m      3\u001b[0m \u001b[1;32mif\u001b[0m \u001b[0mresponse\u001b[0m\u001b[1;33m.\u001b[0m\u001b[0mok\u001b[0m\u001b[1;33m:\u001b[0m\u001b[1;33m\u001b[0m\u001b[1;33m\u001b[0m\u001b[0m\n\u001b[0;32m      4\u001b[0m     \u001b[0mpath\u001b[0m \u001b[1;33m=\u001b[0m \u001b[1;34m'./test/123/123.jpg'\u001b[0m\u001b[1;33m\u001b[0m\u001b[1;33m\u001b[0m\u001b[0m\n\u001b[1;32m----> 5\u001b[1;33m     \u001b[1;32mwith\u001b[0m \u001b[0mopen\u001b[0m\u001b[1;33m(\u001b[0m\u001b[0mpath\u001b[0m\u001b[1;33m,\u001b[0m \u001b[1;34m'wb'\u001b[0m\u001b[1;33m)\u001b[0m \u001b[1;32mas\u001b[0m \u001b[0mhandler\u001b[0m\u001b[1;33m:\u001b[0m\u001b[1;33m\u001b[0m\u001b[1;33m\u001b[0m\u001b[0m\n\u001b[0m\u001b[0;32m      6\u001b[0m         \u001b[0mhandler\u001b[0m\u001b[1;33m.\u001b[0m\u001b[0mwrite\u001b[0m\u001b[1;33m(\u001b[0m\u001b[0mresponse\u001b[0m\u001b[1;33m.\u001b[0m\u001b[0mcontent\u001b[0m\u001b[1;33m)\u001b[0m\u001b[1;33m\u001b[0m\u001b[1;33m\u001b[0m\u001b[0m\n",
      "\u001b[1;31mFileNotFoundError\u001b[0m: [Errno 2] No such file or directory: './test/123/123.jpg'"
     ]
    }
   ],
   "source": [
    "import requests\n",
    "response = requests.get(URL, stream=True)\n",
    "if response.ok:\n",
    "    path = './test/123/123.jpg'\n",
    "    with open(path, 'wb') as handler:\n",
    "        handler.write(response.content)"
   ]
  },
  {
   "cell_type": "code",
   "execution_count": 14,
   "metadata": {},
   "outputs": [
    {
     "data": {
      "text/plain": [
       "'C:\\\\Users\\\\Leo\\\\Downloads\\\\two-sigma-connect-rental-listing-inquiries'"
      ]
     },
     "execution_count": 14,
     "metadata": {},
     "output_type": "execute_result"
    }
   ],
   "source": [
    "import os\n",
    "path = os.getcwd()\n",
    "path"
   ]
  },
  {
   "cell_type": "code",
   "execution_count": 6,
   "metadata": {},
   "outputs": [
    {
     "data": {
      "text/plain": [
       "array([1, 0, 2, 3, 4], dtype=int64)"
      ]
     },
     "execution_count": 6,
     "metadata": {},
     "output_type": "execute_result"
    }
   ],
   "source": [
    "train.bedrooms.unique()"
   ]
  },
  {
   "cell_type": "code",
   "execution_count": 7,
   "metadata": {},
   "outputs": [
    {
     "data": {
      "text/plain": [
       "3776"
      ]
     },
     "execution_count": 7,
     "metadata": {},
     "output_type": "execute_result"
    }
   ],
   "source": [
    "train.building_id.unique().size"
   ]
  },
  {
   "cell_type": "code",
   "execution_count": 8,
   "metadata": {},
   "outputs": [
    {
     "data": {
      "text/html": [
       "<div>\n",
       "<style scoped>\n",
       "    .dataframe tbody tr th:only-of-type {\n",
       "        vertical-align: middle;\n",
       "    }\n",
       "\n",
       "    .dataframe tbody tr th {\n",
       "        vertical-align: top;\n",
       "    }\n",
       "\n",
       "    .dataframe thead th {\n",
       "        text-align: right;\n",
       "    }\n",
       "</style>\n",
       "<table border=\"1\" class=\"dataframe\">\n",
       "  <thead>\n",
       "    <tr style=\"text-align: right;\">\n",
       "      <th></th>\n",
       "      <th>bathrooms</th>\n",
       "      <th>bedrooms</th>\n",
       "      <th>building_id</th>\n",
       "      <th>created</th>\n",
       "      <th>description</th>\n",
       "      <th>display_address</th>\n",
       "      <th>features</th>\n",
       "      <th>latitude</th>\n",
       "      <th>listing_id</th>\n",
       "      <th>longitude</th>\n",
       "      <th>manager_id</th>\n",
       "      <th>photos</th>\n",
       "      <th>price</th>\n",
       "      <th>street_address</th>\n",
       "      <th>interest_level</th>\n",
       "    </tr>\n",
       "  </thead>\n",
       "  <tbody>\n",
       "    <tr>\n",
       "      <th>2183</th>\n",
       "      <td>1.0</td>\n",
       "      <td>0</td>\n",
       "      <td>7c25a2db9e96160f1441808896eb403a</td>\n",
       "      <td>2016-04-06 03:30:31</td>\n",
       "      <td>Cozy high floor studio with great natural sun ...</td>\n",
       "      <td>Orchard Street</td>\n",
       "      <td>[Loft, Hardwood Floors]</td>\n",
       "      <td>40.7208</td>\n",
       "      <td>6829837</td>\n",
       "      <td>-73.9887</td>\n",
       "      <td>136b844f49c4eae017d6cabe8ca03b9d</td>\n",
       "      <td>[https://photos.renthop.com/2/6829837_1d6883ea...</td>\n",
       "      <td>2150</td>\n",
       "      <td>154 Orchard Street</td>\n",
       "      <td>low</td>\n",
       "    </tr>\n",
       "    <tr>\n",
       "      <th>3241</th>\n",
       "      <td>1.0</td>\n",
       "      <td>0</td>\n",
       "      <td>7c25a2db9e96160f1441808896eb403a</td>\n",
       "      <td>2016-06-06 03:04:51</td>\n",
       "      <td>A FABULOUS STUDIO IN THE LOWER EAST SIDE! PERF...</td>\n",
       "      <td>Orchard St.</td>\n",
       "      <td>[Laundry in Building, Hardwood Floors]</td>\n",
       "      <td>40.7208</td>\n",
       "      <td>7115709</td>\n",
       "      <td>-73.9886</td>\n",
       "      <td>a04d15bfff8a474ff388071ff9e46a24</td>\n",
       "      <td>[https://photos.renthop.com/2/7115709_0392c8d0...</td>\n",
       "      <td>2150</td>\n",
       "      <td>154 Orchard St.</td>\n",
       "      <td>low</td>\n",
       "    </tr>\n",
       "    <tr>\n",
       "      <th>3830</th>\n",
       "      <td>1.0</td>\n",
       "      <td>0</td>\n",
       "      <td>7c25a2db9e96160f1441808896eb403a</td>\n",
       "      <td>2016-06-20 20:30:23</td>\n",
       "      <td>Great Studio in the Lower East SideGorgeous st...</td>\n",
       "      <td>Orchard Street</td>\n",
       "      <td>[Hardwood Floors, Dogs Allowed, Cats Allowed]</td>\n",
       "      <td>40.7208</td>\n",
       "      <td>7186285</td>\n",
       "      <td>-73.9886</td>\n",
       "      <td>6edb99e28aa3385eea034d0f73b6952a</td>\n",
       "      <td>[https://photos.renthop.com/2/7186285_25b9857f...</td>\n",
       "      <td>2100</td>\n",
       "      <td>154 Orchard Street</td>\n",
       "      <td>low</td>\n",
       "    </tr>\n",
       "    <tr>\n",
       "      <th>8306</th>\n",
       "      <td>1.0</td>\n",
       "      <td>0</td>\n",
       "      <td>7c25a2db9e96160f1441808896eb403a</td>\n",
       "      <td>2016-05-18 02:37:45</td>\n",
       "      <td>Gorgeous studio on a charming quiet block in t...</td>\n",
       "      <td>Orchard Street</td>\n",
       "      <td>[Dogs Allowed, Cats Allowed]</td>\n",
       "      <td>40.7208</td>\n",
       "      <td>7028300</td>\n",
       "      <td>-73.9887</td>\n",
       "      <td>ffd3c60281949a5cd806030203a79558</td>\n",
       "      <td>[https://photos.renthop.com/2/7028300_2763052b...</td>\n",
       "      <td>2150</td>\n",
       "      <td>154 Orchard Street</td>\n",
       "      <td>low</td>\n",
       "    </tr>\n",
       "    <tr>\n",
       "      <th>8392</th>\n",
       "      <td>1.0</td>\n",
       "      <td>0</td>\n",
       "      <td>7c25a2db9e96160f1441808896eb403a</td>\n",
       "      <td>2016-05-18 02:42:39</td>\n",
       "      <td>Gorgeous studio with Exposed brick and stainle...</td>\n",
       "      <td>Orchard Street</td>\n",
       "      <td>[Loft, Hardwood Floors]</td>\n",
       "      <td>40.7208</td>\n",
       "      <td>7028374</td>\n",
       "      <td>-73.9887</td>\n",
       "      <td>f32c29c47890054822a062c48ed0229f</td>\n",
       "      <td>[https://photos.renthop.com/2/7028374_a1f8d19f...</td>\n",
       "      <td>2150</td>\n",
       "      <td>154 Orchard Street</td>\n",
       "      <td>medium</td>\n",
       "    </tr>\n",
       "    <tr>\n",
       "      <th>9392</th>\n",
       "      <td>1.0</td>\n",
       "      <td>0</td>\n",
       "      <td>7c25a2db9e96160f1441808896eb403a</td>\n",
       "      <td>2016-06-28 05:55:55</td>\n",
       "      <td>Studio on Orchard St between Rivington and Sta...</td>\n",
       "      <td>Orchard St.</td>\n",
       "      <td>[]</td>\n",
       "      <td>40.7208</td>\n",
       "      <td>7226601</td>\n",
       "      <td>-73.9886</td>\n",
       "      <td>c70dac1e7841801c3f8257de18f21561</td>\n",
       "      <td>[https://photos.renthop.com/2/7226601_1fc5df27...</td>\n",
       "      <td>2100</td>\n",
       "      <td>154 Orchard St.</td>\n",
       "      <td>low</td>\n",
       "    </tr>\n",
       "  </tbody>\n",
       "</table>\n",
       "</div>"
      ],
      "text/plain": [
       "      bathrooms  bedrooms                       building_id  \\\n",
       "2183        1.0         0  7c25a2db9e96160f1441808896eb403a   \n",
       "3241        1.0         0  7c25a2db9e96160f1441808896eb403a   \n",
       "3830        1.0         0  7c25a2db9e96160f1441808896eb403a   \n",
       "8306        1.0         0  7c25a2db9e96160f1441808896eb403a   \n",
       "8392        1.0         0  7c25a2db9e96160f1441808896eb403a   \n",
       "9392        1.0         0  7c25a2db9e96160f1441808896eb403a   \n",
       "\n",
       "                  created                                        description  \\\n",
       "2183  2016-04-06 03:30:31  Cozy high floor studio with great natural sun ...   \n",
       "3241  2016-06-06 03:04:51  A FABULOUS STUDIO IN THE LOWER EAST SIDE! PERF...   \n",
       "3830  2016-06-20 20:30:23  Great Studio in the Lower East SideGorgeous st...   \n",
       "8306  2016-05-18 02:37:45  Gorgeous studio on a charming quiet block in t...   \n",
       "8392  2016-05-18 02:42:39  Gorgeous studio with Exposed brick and stainle...   \n",
       "9392  2016-06-28 05:55:55  Studio on Orchard St between Rivington and Sta...   \n",
       "\n",
       "     display_address                                       features  latitude  \\\n",
       "2183  Orchard Street                        [Loft, Hardwood Floors]   40.7208   \n",
       "3241     Orchard St.         [Laundry in Building, Hardwood Floors]   40.7208   \n",
       "3830  Orchard Street  [Hardwood Floors, Dogs Allowed, Cats Allowed]   40.7208   \n",
       "8306  Orchard Street                   [Dogs Allowed, Cats Allowed]   40.7208   \n",
       "8392  Orchard Street                        [Loft, Hardwood Floors]   40.7208   \n",
       "9392     Orchard St.                                             []   40.7208   \n",
       "\n",
       "      listing_id  longitude                        manager_id  \\\n",
       "2183     6829837   -73.9887  136b844f49c4eae017d6cabe8ca03b9d   \n",
       "3241     7115709   -73.9886  a04d15bfff8a474ff388071ff9e46a24   \n",
       "3830     7186285   -73.9886  6edb99e28aa3385eea034d0f73b6952a   \n",
       "8306     7028300   -73.9887  ffd3c60281949a5cd806030203a79558   \n",
       "8392     7028374   -73.9887  f32c29c47890054822a062c48ed0229f   \n",
       "9392     7226601   -73.9886  c70dac1e7841801c3f8257de18f21561   \n",
       "\n",
       "                                                 photos  price  \\\n",
       "2183  [https://photos.renthop.com/2/6829837_1d6883ea...   2150   \n",
       "3241  [https://photos.renthop.com/2/7115709_0392c8d0...   2150   \n",
       "3830  [https://photos.renthop.com/2/7186285_25b9857f...   2100   \n",
       "8306  [https://photos.renthop.com/2/7028300_2763052b...   2150   \n",
       "8392  [https://photos.renthop.com/2/7028374_a1f8d19f...   2150   \n",
       "9392  [https://photos.renthop.com/2/7226601_1fc5df27...   2100   \n",
       "\n",
       "          street_address interest_level  \n",
       "2183  154 Orchard Street            low  \n",
       "3241     154 Orchard St.            low  \n",
       "3830  154 Orchard Street            low  \n",
       "8306  154 Orchard Street            low  \n",
       "8392  154 Orchard Street         medium  \n",
       "9392     154 Orchard St.            low  "
      ]
     },
     "execution_count": 8,
     "metadata": {},
     "output_type": "execute_result"
    }
   ],
   "source": [
    "train[train.building_id == '7c25a2db9e96160f1441808896eb403a']"
   ]
  },
  {
   "cell_type": "code",
   "execution_count": null,
   "metadata": {},
   "outputs": [],
   "source": []
  }
 ],
 "metadata": {
  "kernelspec": {
   "display_name": "Python 3",
   "language": "python",
   "name": "python3"
  },
  "language_info": {
   "codemirror_mode": {
    "name": "ipython",
    "version": 3
   },
   "file_extension": ".py",
   "mimetype": "text/x-python",
   "name": "python",
   "nbconvert_exporter": "python",
   "pygments_lexer": "ipython3",
   "version": "3.7.3"
  }
 },
 "nbformat": 4,
 "nbformat_minor": 2
}
