{
 "cells": [
  {
   "cell_type": "code",
   "execution_count": 1,
   "metadata": {},
   "outputs": [],
   "source": [
    "import numpy as np\n",
    "import pandas as pd"
   ]
  },
  {
   "cell_type": "code",
   "execution_count": 2,
   "metadata": {},
   "outputs": [],
   "source": [
    "def load_train_data():\n",
    "    train_file = 'train.json.zip'\n",
    "    train = pd.read_json(train_file, orient='records', convert_dates=['created'])\n",
    "    train.reset_index(drop=True, inplace=True)\n",
    "    return train\n",
    "\n",
    "def load_test_data():\n",
    "    test_file = 'test.json.zip'\n",
    "    test = pd.read_json(test_file, orient='records', convert_dates=['created'])\n",
    "    test.reset_index(drop=True, inplace=True)\n",
    "    return test"
   ]
  },
  {
   "cell_type": "code",
   "execution_count": 3,
   "metadata": {},
   "outputs": [],
   "source": [
    "# load data\n",
    "train = load_train_data()\n",
    "test = load_train_data()\n",
    "\n",
    "# remove outliers\n",
    "# latitude\n",
    "lower = np.percentile(train['latitude'].values, 1)\n",
    "upper = np.percentile(train['latitude'].values, 99)\n",
    "train = train[train['latitude'] > lower]\n",
    "train = train[train['latitude'] < upper]\n",
    "# train.latitude.hist()\n",
    "\n",
    "# longitude\n",
    "lower = np.percentile(train['longitude'].values, 1)\n",
    "upper = np.percentile(train['longitude'].values, 99)\n",
    "train = train[train['longitude'] > lower]\n",
    "train = train[train['longitude'] < upper]\n",
    "# train.longitude.hist()\n",
    "\n",
    "# price\n",
    "upper = np.percentile(train['price'].values, 99)\n",
    "train = train[train['price'] < upper]\n",
    "# train.price.hist()\n",
    "\n",
    "train.reset_index(drop=True, inplace=True)"
   ]
  },
  {
   "cell_type": "code",
   "execution_count": 5,
   "metadata": {},
   "outputs": [],
   "source": [
    "# Adding feature manager id\n",
    "manager_id_df = train.groupby(['manager_id']).agg({'building_id': 'count'}).reset_index()\n",
    "manager_number = manager_id_df['building_id'].shape[0]\n",
    "manager_id_df['building_id'] = np.linspace(1, manager_number, num=manager_number, dtype=int)\n",
    "\n",
    "train = train.merge(manager_id_df, how='left', on='manager_id')\n",
    "del train['building_id_x']\n",
    "train = train.rename(columns={'building_id_y': 'manager_number'})\n",
    "\n",
    "# using external dataset\n",
    "subway = pd.read_csv('NYC_Transit_Subway_Entrance_And_Exit_Data.csv')\n",
    "subway = subway[['Station Name', 'Station Latitude', 'Station Longitude']]\n",
    "subway = subway.groupby(['Station Name']).mean().reset_index(drop=True)\n",
    "\n",
    "from math import cos, asin, sqrt\n",
    "# https://stackoverflow.com/questions/27928/calculate-distance-between-two-latitude-longitude-points-haversine-formula/21623206\n",
    "def distance_pair(lat1, lon1, lat2, lon2):\n",
    "    p = 0.017453292519943295     #Pi/180\n",
    "    a = 0.5 - cos((lat2 - lat1) * p)/2 +  cos(lat1 * p) * cos(lat2 * p) * (1 - cos((lon2 - lon1) * p)) / 2\n",
    "    d_2_point = 6371 *2 * asin(sqrt(a)) #2*R*asin...\n",
    "    return d_2_point\n",
    "distance_pairs = np.vectorize(distance_pair)\n",
    "\n",
    "def get_nearby_subway(location):\n",
    "    distances = distance_pairs(location[0], location[1], subway['Station Latitude'], subway['Station Longitude'])    \n",
    "    return distances[distances < 1].shape[0]\n",
    "    \n",
    "def get_subway_distance(location):\n",
    "    distances = distance_pairs(location[0], location[1], subway['Station Latitude'], subway['Station Longitude'])    \n",
    "    return min(distances)\n",
    "\n",
    "train['feature_number'] = train['features'].apply(len)\n",
    "train['room_number'] = train['bedrooms'] + train['bathrooms']\n",
    "train['photo_number'] = train['photos'].apply(len)\n",
    "train['location'] = train[['latitude', 'longitude']].values.tolist()\n",
    "train['nearby_subway'] = train['location'].apply(get_nearby_subway)\n",
    "train['subway_distance'] = train['location'].apply(get_subway_distance)\n",
    "train['target'] = train['interest_level'].apply(lambda x: 0 if x=='low' else 1 if x=='medium' else 2)\n"
   ]
  },
  {
   "cell_type": "code",
   "execution_count": 14,
   "metadata": {},
   "outputs": [],
   "source": [
    "X_features = ['feature_number', 'room_number', 'photo_number', 'nearby_subway', 'subway_distance', 'price']\n",
    "# X_features = ['price']\n",
    "X = train[X_features]\n",
    "y = train['target']"
   ]
  },
  {
   "cell_type": "code",
   "execution_count": 26,
   "metadata": {},
   "outputs": [
    {
     "name": "stdout",
     "output_type": "stream",
     "text": [
      "Accuracy: 0.541455 (+/- 0.398324)\n"
     ]
    }
   ],
   "source": [
    "from sklearn.linear_model import SGDClassifier\n",
    "from sklearn.model_selection import cross_val_score\n",
    "\n",
    "sgd = SGDClassifier()\n",
    "\n",
    "scores = cross_val_score(sgd, X, y, cv=5)\n",
    "print(\"Accuracy: %f (+/- %f)\" % (scores.mean(), scores.std() * 2))"
   ]
  },
  {
   "cell_type": "code",
   "execution_count": 21,
   "metadata": {},
   "outputs": [
    {
     "name": "stdout",
     "output_type": "stream",
     "text": [
      "Accuracy: 0.075794 (+/- 0.008466)\n"
     ]
    }
   ],
   "source": [
    "# from lightgbm import LGBMRegressor\n",
    "# from sklearn.model_selection import cross_val_score\n",
    "\n",
    "# lgbm = LGBMRegressor()\n",
    "\n",
    "# scores = cross_val_score(lgbm, X, y, cv=5)\n",
    "# print(\"Accuracy: %f (+/- %f)\" % (scores.mean(), scores.std() * 2))"
   ]
  },
  {
   "cell_type": "code",
   "execution_count": 30,
   "metadata": {},
   "outputs": [
    {
     "name": "stdout",
     "output_type": "stream",
     "text": [
      "Accuracy: 0.696558 (+/- 0.001151)\n"
     ]
    }
   ],
   "source": [
    "from sklearn.ensemble import GradientBoostingClassifier\n",
    "from sklearn.model_selection import cross_val_score\n",
    "\n",
    "gb = GradientBoostingClassifier(max_depth=10,\n",
    "                                max_features=5,\n",
    "                                subsample=0.5)\n",
    "\n",
    "scores = cross_val_score(gb, X, y, cv=5)\n",
    "print(\"Accuracy: %f (+/- %f)\" % (scores.mean(), scores.std() * 2))"
   ]
  },
  {
   "cell_type": "code",
   "execution_count": null,
   "metadata": {},
   "outputs": [],
   "source": []
  }
 ],
 "metadata": {
  "kernelspec": {
   "display_name": "Python 3",
   "language": "python",
   "name": "python3"
  },
  "language_info": {
   "codemirror_mode": {
    "name": "ipython",
    "version": 3
   },
   "file_extension": ".py",
   "mimetype": "text/x-python",
   "name": "python",
   "nbconvert_exporter": "python",
   "pygments_lexer": "ipython3",
   "version": "3.7.4"
  }
 },
 "nbformat": 4,
 "nbformat_minor": 2
}
